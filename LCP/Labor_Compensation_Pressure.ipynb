{
 "cells": [
  {
   "cell_type": "markdown",
   "id": "fcf81043",
   "metadata": {},
   "source": [
    "## 💸 **Compensation & Participation Signals**\n",
    "\n",
    "*Measures wage pressure, real earnings growth, work intensity, and participation in the labor market*\n",
    "**Frequency:** Monthly\n",
    "\n",
    "| Indicator                                | Source                    | Notes                                          |\n",
    "| ---------------------------------------- | ------------------------- | ---------------------------------------------- |\n",
    "| Avg Weekly Earnings – Total Private      | CES (`CES0500000030`)     | Nominal earnings across majority of workforce  |\n",
    "| Median Hourly Wage Growth – 3MMA         | ATL Fed (`FRBATLWGT3MMAUMHWGO`) | Smoothed median wage change, outlier-resistant |\n",
    "| Prime-Age Employment-to-Population Ratio | BLS (`LNS12300060`)       | Core employment engagement (ages 25–54)        |\n",
    "| Prime-Age Labor Force Participation Rate | BLS (`LNS11300060`)       | Best signal of labor force engagement          |\n",
    "| Avg Weekly Hours – Total Private         | CES (`AWHAETP`)           | Reflects changes in workload and hiring demand |\n",
    "\n",
    "---"
   ]
  },
  {
   "cell_type": "code",
   "execution_count": 26,
   "id": "519ba683",
   "metadata": {},
   "outputs": [
    {
     "data": {
      "application/vnd.microsoft.datawrangler.viewer.v0+json": {
       "columns": [
        {
         "name": "index",
         "rawType": "int64",
         "type": "integer"
        },
        {
         "name": "observation_date",
         "rawType": "object",
         "type": "string"
        },
        {
         "name": "Avg_Weekly_Earnings",
         "rawType": "float64",
         "type": "float"
        },
        {
         "name": "Median_Wage_Growth_3MMA",
         "rawType": "float64",
         "type": "float"
        },
        {
         "name": "Prime_Employment_to_Population_Ratio",
         "rawType": "float64",
         "type": "float"
        },
        {
         "name": "Prime_LFPR",
         "rawType": "float64",
         "type": "float"
        },
        {
         "name": "CPI",
         "rawType": "float64",
         "type": "float"
        }
       ],
       "conversionMethod": "pd.DataFrame",
       "ref": "41c1854a-7241-4f68-8d26-4b21031a0f0d",
       "rows": [
        [
         "0",
         "1997-03-01",
         "426.08",
         "4.5",
         "80.6",
         "84.0",
         "159.8"
        ],
        [
         "1",
         "1997-04-01",
         "427.46",
         "4.6",
         "80.7",
         "84.0",
         "159.9"
        ],
        [
         "2",
         "1997-05-01",
         "430.08",
         "4.5",
         "80.6",
         "83.8",
         "159.9"
        ],
        [
         "3",
         "1997-06-01",
         "427.38",
         "4.6",
         "80.9",
         "84.1",
         "160.2"
        ],
        [
         "4",
         "1997-07-01",
         "431.25",
         "4.8",
         "81.1",
         "84.3",
         "160.4"
        ],
        [
         "5",
         "1997-08-01",
         "434.92",
         "4.9",
         "81.3",
         "84.5",
         "160.8"
        ],
        [
         "6",
         "1997-09-01",
         "435.96",
         "4.8",
         "81.1",
         "84.3",
         "161.2"
        ],
        [
         "7",
         "1997-10-01",
         "438.04",
         "4.8",
         "81.1",
         "84.2",
         "161.5"
        ],
        [
         "8",
         "1997-11-01",
         "438.5",
         "4.8",
         "81.0",
         "84.0",
         "161.7"
        ],
        [
         "9",
         "1997-12-01",
         "441.15",
         "4.9",
         "81.0",
         "84.1",
         "161.8"
        ],
        [
         "10",
         "1998-01-01",
         "442.53",
         "4.9",
         "81.0",
         "84.0",
         "162.0"
        ],
        [
         "11",
         "1998-02-01",
         "442.64",
         "4.8",
         "81.0",
         "84.1",
         "162.0"
        ],
        [
         "12",
         "1998-03-01",
         "442.73",
         "4.6",
         "81.0",
         "84.2",
         "162.0"
        ],
        [
         "13",
         "1998-04-01",
         "444.45",
         "4.9",
         "81.1",
         "83.9",
         "162.2"
        ],
        [
         "14",
         "1998-05-01",
         "447.47",
         "5.2",
         "81.0",
         "83.9",
         "162.6"
        ],
        [
         "15",
         "1998-06-01",
         "446.86",
         "5.4",
         "81.0",
         "84.0",
         "162.8"
        ],
        [
         "16",
         "1998-07-01",
         "448.5",
         "5.4",
         "81.1",
         "84.1",
         "163.2"
        ],
        [
         "17",
         "1998-08-01",
         "450.92",
         "5.3",
         "81.2",
         "84.1",
         "163.4"
        ],
        [
         "18",
         "1998-09-01",
         "449.67",
         "5.1",
         "81.3",
         "84.2",
         "163.5"
        ],
        [
         "19",
         "1998-10-01",
         "453.33",
         "5.0",
         "81.1",
         "84.1",
         "163.9"
        ],
        [
         "20",
         "1998-11-01",
         "453.05",
         "4.9",
         "81.2",
         "84.1",
         "164.1"
        ],
        [
         "21",
         "1998-12-01",
         "455.75",
         "5.0",
         "81.3",
         "84.2",
         "164.4"
        ],
        [
         "22",
         "1999-01-01",
         "456.49",
         "5.0",
         "81.8",
         "84.6",
         "164.7"
        ],
        [
         "23",
         "1999-02-01",
         "458.85",
         "5.0",
         "81.5",
         "84.4",
         "164.7"
        ],
        [
         "24",
         "1999-03-01",
         "457.56",
         "5.2",
         "81.3",
         "84.0",
         "164.8"
        ],
        [
         "25",
         "1999-04-01",
         "460.27",
         "5.2",
         "81.3",
         "84.1",
         "165.9"
        ],
        [
         "26",
         "1999-05-01",
         "460.31",
         "5.2",
         "81.4",
         "84.1",
         "166.0"
        ],
        [
         "27",
         "1999-06-01",
         "463.37",
         "4.9",
         "81.4",
         "84.1",
         "166.0"
        ],
        [
         "28",
         "1999-07-01",
         "464.74",
         "5.0",
         "81.2",
         "83.9",
         "166.7"
        ],
        [
         "29",
         "1999-08-01",
         "465.43",
         "4.8",
         "81.3",
         "84.0",
         "167.1"
        ],
        [
         "30",
         "1999-09-01",
         "466.82",
         "5.0",
         "81.3",
         "84.0",
         "167.8"
        ],
        [
         "31",
         "1999-10-01",
         "469.22",
         "5.1",
         "81.5",
         "84.1",
         "168.1"
        ],
        [
         "32",
         "1999-11-01",
         "469.9",
         "5.2",
         "81.6",
         "84.2",
         "168.4"
        ],
        [
         "33",
         "1999-12-01",
         "471.28",
         "5.0",
         "81.5",
         "84.0",
         "168.8"
        ],
        [
         "34",
         "2000-01-01",
         "472.66",
         "4.9",
         "81.8",
         "84.4",
         "169.3"
        ],
        [
         "35",
         "2000-02-01",
         "474.72",
         "4.8",
         "81.8",
         "84.4",
         "170.0"
        ],
        [
         "36",
         "2000-03-01",
         "476.44",
         "4.8",
         "81.7",
         "84.3",
         "171.0"
        ],
        [
         "37",
         "2000-04-01",
         "477.82",
         "4.9",
         "81.9",
         "84.4",
         "170.9"
        ],
        [
         "38",
         "2000-05-01",
         "478.14",
         "4.9",
         "81.5",
         "84.1",
         "171.2"
        ],
        [
         "39",
         "2000-06-01",
         "479.51",
         "5.0",
         "81.5",
         "84.1",
         "172.2"
        ],
        [
         "40",
         "2000-07-01",
         "480.89",
         "5.1",
         "81.3",
         "83.9",
         "172.7"
        ],
        [
         "41",
         "2000-08-01",
         "481.19",
         "5.1",
         "81.1",
         "83.8",
         "172.7"
        ],
        [
         "42",
         "2000-09-01",
         "484.32",
         "5.2",
         "81.1",
         "83.7",
         "173.6"
        ],
        [
         "43",
         "2000-10-01",
         "484.61",
         "5.2",
         "81.1",
         "83.6",
         "173.9"
        ],
        [
         "44",
         "2000-11-01",
         "486.67",
         "5.4",
         "81.3",
         "83.8",
         "174.2"
        ],
        [
         "45",
         "2000-12-01",
         "485.86",
         "5.4",
         "81.4",
         "83.9",
         "174.6"
        ],
        [
         "46",
         "2001-01-01",
         "488.72",
         "5.4",
         "81.4",
         "84.1",
         "175.6"
        ],
        [
         "47",
         "2001-02-01",
         "488.24",
         "5.3",
         "81.3",
         "84.1",
         "176.0"
        ],
        [
         "48",
         "2001-03-01",
         "491.72",
         "5.3",
         "81.3",
         "84.1",
         "176.1"
        ],
        [
         "49",
         "2001-04-01",
         "490.96",
         "5.3",
         "80.9",
         "83.7",
         "176.4"
        ]
       ],
       "shape": {
        "columns": 6,
        "rows": 338
       }
      },
      "text/html": [
       "<div>\n",
       "<style scoped>\n",
       "    .dataframe tbody tr th:only-of-type {\n",
       "        vertical-align: middle;\n",
       "    }\n",
       "\n",
       "    .dataframe tbody tr th {\n",
       "        vertical-align: top;\n",
       "    }\n",
       "\n",
       "    .dataframe thead th {\n",
       "        text-align: right;\n",
       "    }\n",
       "</style>\n",
       "<table border=\"1\" class=\"dataframe\">\n",
       "  <thead>\n",
       "    <tr style=\"text-align: right;\">\n",
       "      <th></th>\n",
       "      <th>observation_date</th>\n",
       "      <th>Avg_Weekly_Earnings</th>\n",
       "      <th>Median_Wage_Growth_3MMA</th>\n",
       "      <th>Prime_Employment_to_Population_Ratio</th>\n",
       "      <th>Prime_LFPR</th>\n",
       "      <th>CPI</th>\n",
       "    </tr>\n",
       "  </thead>\n",
       "  <tbody>\n",
       "    <tr>\n",
       "      <th>0</th>\n",
       "      <td>1997-03-01</td>\n",
       "      <td>426.08</td>\n",
       "      <td>4.5</td>\n",
       "      <td>80.6</td>\n",
       "      <td>84.0</td>\n",
       "      <td>159.800</td>\n",
       "    </tr>\n",
       "    <tr>\n",
       "      <th>1</th>\n",
       "      <td>1997-04-01</td>\n",
       "      <td>427.46</td>\n",
       "      <td>4.6</td>\n",
       "      <td>80.7</td>\n",
       "      <td>84.0</td>\n",
       "      <td>159.900</td>\n",
       "    </tr>\n",
       "    <tr>\n",
       "      <th>2</th>\n",
       "      <td>1997-05-01</td>\n",
       "      <td>430.08</td>\n",
       "      <td>4.5</td>\n",
       "      <td>80.6</td>\n",
       "      <td>83.8</td>\n",
       "      <td>159.900</td>\n",
       "    </tr>\n",
       "    <tr>\n",
       "      <th>3</th>\n",
       "      <td>1997-06-01</td>\n",
       "      <td>427.38</td>\n",
       "      <td>4.6</td>\n",
       "      <td>80.9</td>\n",
       "      <td>84.1</td>\n",
       "      <td>160.200</td>\n",
       "    </tr>\n",
       "    <tr>\n",
       "      <th>4</th>\n",
       "      <td>1997-07-01</td>\n",
       "      <td>431.25</td>\n",
       "      <td>4.8</td>\n",
       "      <td>81.1</td>\n",
       "      <td>84.3</td>\n",
       "      <td>160.400</td>\n",
       "    </tr>\n",
       "    <tr>\n",
       "      <th>...</th>\n",
       "      <td>...</td>\n",
       "      <td>...</td>\n",
       "      <td>...</td>\n",
       "      <td>...</td>\n",
       "      <td>...</td>\n",
       "      <td>...</td>\n",
       "    </tr>\n",
       "    <tr>\n",
       "      <th>333</th>\n",
       "      <td>2024-12-01</td>\n",
       "      <td>1033.58</td>\n",
       "      <td>4.2</td>\n",
       "      <td>80.5</td>\n",
       "      <td>83.4</td>\n",
       "      <td>317.603</td>\n",
       "    </tr>\n",
       "    <tr>\n",
       "      <th>334</th>\n",
       "      <td>2025-01-01</td>\n",
       "      <td>1034.88</td>\n",
       "      <td>4.1</td>\n",
       "      <td>80.7</td>\n",
       "      <td>83.5</td>\n",
       "      <td>319.086</td>\n",
       "    </tr>\n",
       "    <tr>\n",
       "      <th>335</th>\n",
       "      <td>2025-02-01</td>\n",
       "      <td>1038.58</td>\n",
       "      <td>4.3</td>\n",
       "      <td>80.5</td>\n",
       "      <td>83.5</td>\n",
       "      <td>319.775</td>\n",
       "    </tr>\n",
       "    <tr>\n",
       "      <th>336</th>\n",
       "      <td>2025-03-01</td>\n",
       "      <td>1046.45</td>\n",
       "      <td>4.3</td>\n",
       "      <td>80.4</td>\n",
       "      <td>83.3</td>\n",
       "      <td>319.615</td>\n",
       "    </tr>\n",
       "    <tr>\n",
       "      <th>337</th>\n",
       "      <td>2025-04-01</td>\n",
       "      <td>1049.83</td>\n",
       "      <td>4.3</td>\n",
       "      <td>80.7</td>\n",
       "      <td>83.6</td>\n",
       "      <td>320.321</td>\n",
       "    </tr>\n",
       "  </tbody>\n",
       "</table>\n",
       "<p>338 rows × 6 columns</p>\n",
       "</div>"
      ],
      "text/plain": [
       "    observation_date  Avg_Weekly_Earnings  Median_Wage_Growth_3MMA  \\\n",
       "0         1997-03-01               426.08                      4.5   \n",
       "1         1997-04-01               427.46                      4.6   \n",
       "2         1997-05-01               430.08                      4.5   \n",
       "3         1997-06-01               427.38                      4.6   \n",
       "4         1997-07-01               431.25                      4.8   \n",
       "..               ...                  ...                      ...   \n",
       "333       2024-12-01              1033.58                      4.2   \n",
       "334       2025-01-01              1034.88                      4.1   \n",
       "335       2025-02-01              1038.58                      4.3   \n",
       "336       2025-03-01              1046.45                      4.3   \n",
       "337       2025-04-01              1049.83                      4.3   \n",
       "\n",
       "     Prime_Employment_to_Population_Ratio  Prime_LFPR      CPI  \n",
       "0                                    80.6        84.0  159.800  \n",
       "1                                    80.7        84.0  159.900  \n",
       "2                                    80.6        83.8  159.900  \n",
       "3                                    80.9        84.1  160.200  \n",
       "4                                    81.1        84.3  160.400  \n",
       "..                                    ...         ...      ...  \n",
       "333                                  80.5        83.4  317.603  \n",
       "334                                  80.7        83.5  319.086  \n",
       "335                                  80.5        83.5  319.775  \n",
       "336                                  80.4        83.3  319.615  \n",
       "337                                  80.7        83.6  320.321  \n",
       "\n",
       "[338 rows x 6 columns]"
      ]
     },
     "execution_count": 26,
     "metadata": {},
     "output_type": "execute_result"
    }
   ],
   "source": [
    "import pandas as pd\n",
    "import sqlite3\n",
    "\n",
    "# Load CSV files into DataFrames\n",
    "Average_Weekly_Earnings_df = pd.read_csv('Average_Weekly_Earnings.csv')\n",
    "Average_Weekly_Hours_df = pd.read_csv('Average_Weekly_Hours.csv')\n",
    "Median_Hourly_Wage_Growth_3MMA_df = pd.read_csv('Median_Hourly_Wage_Growth_3MMA.csv')\n",
    "Prime_Employment_to_Population_Ratio_df = pd.read_csv('Prime_Employment_to_Population_Ratio.csv')\n",
    "Prime_Labor_Force_Participation_Rate_df = pd.read_csv('Prime_Labor_Force_Participation_Rate.csv')\n",
    "CPI_df = pd.read_csv('CPI.csv')\n",
    "\n",
    "# Create an SQLite in-memory database\n",
    "conn = sqlite3.connect(':memory:')\n",
    "\n",
    "# Load DataFrames into the database as tables\n",
    "Average_Weekly_Earnings_df.to_sql('Earnings', conn, index=False, if_exists='replace')\n",
    "Average_Weekly_Hours_df.to_sql('Hours', conn, index=False, if_exists='replace')\n",
    "Median_Hourly_Wage_Growth_3MMA_df.to_sql('Median_Wage_Growth_3MMA', conn, index=False, if_exists='replace')\n",
    "Prime_Employment_to_Population_Ratio_df.to_sql('Prime_Employment_to_Population_Ratio', conn, index=False, if_exists='replace')\n",
    "Prime_Labor_Force_Participation_Rate_df.to_sql('Prime_Labor_Force_Participation_Rate', conn, index=False, if_exists='replace')\n",
    "CPI_df.to_sql('CPI', conn, index=False, if_exists='replace')\n",
    "\n",
    "\n",
    "\n",
    "# SQL query to merge all tables on 'Player'\n",
    "sql_query = \"\"\"\n",
    "SELECT \n",
    "    Median_Wage_Growth_3MMA.observation_date, \n",
    "    CES0500000030 as \"Avg_Weekly_Earnings\",\n",
    "    FRBATLWGT3MMAUMHWGO as \"Median_Wage_Growth_3MMA\",\n",
    "    LNS12300060 as \"Prime_Employment_to_Population_Ratio\",\n",
    "    LNS11300060 as \"Prime_LFPR\",\n",
    "    CPI as \"CPI\"\n",
    "FROM Median_Wage_Growth_3MMA\n",
    "INNER JOIN Earnings ON Median_Wage_Growth_3MMA.observation_date = Earnings.observation_date\n",
    "INNER JOIN Prime_Employment_to_Population_Ratio ON Median_Wage_Growth_3MMA.observation_date = Prime_Employment_to_Population_Ratio.observation_date\n",
    "INNER JOIN Prime_Labor_Force_Participation_Rate ON Median_Wage_Growth_3MMA.observation_date = Prime_Labor_Force_Participation_Rate.observation_date\n",
    "INNER JOIN CPI ON Median_Wage_Growth_3MMA.observation_date = CPI.observation_date\n",
    "\"\"\"\n",
    "\n",
    "\n",
    "# Execute the query and load results into a DataFrame\n",
    "Labor_Compensation_Pressure_df = pd.read_sql_query(sql_query, conn)\n",
    "\n",
    "# Save the merged DataFrame to a new CSV file\n",
    "# csv_filename = \"Stats/All_Player_Numbers.csv\"\n",
    "# Player_Numbers_df.to_csv(csv_filename, index=False)\n",
    "\n",
    "# Close the connection\n",
    "conn.close()\n",
    "\n",
    "# Provide the file to the user\n",
    "\n",
    "\n",
    "Labor_Compensation_Pressure_df"
   ]
  },
  {
   "cell_type": "markdown",
   "id": "7b6ba32d",
   "metadata": {},
   "source": [
    "### 🧠 **Feature Engineering:**\n",
    "\n",
    "* `AvgWeeklyEarning_YoY = YoY % change in Avg Weekly Earnings`\n",
    "  *Captures nominal wage growth*\n",
    "* `RealWageGrowth = AvgWeeklyEarning_YoY – CPI_YoY`\n",
    "  *Measures purchasing power of wages*\n",
    "* `MedianWage3MMA_Z = z-score(Median Wage 3MMA)`\n",
    "  *Standardized short-term wage signal*\n",
    "* `PrimeEPOP_Z = z-score(Prime-Age Employment-to-Population)`\n",
    "  *Normalized employment engagement*\n",
    "* `PrimeLFPR_Trend = Current LFPR – LFPR 12 months ago`\n",
    "  *Longitudinal participation shift*\n",
    "* `WeeklyHours_Trend = Change in Avg Weekly Hours over 12 months`\n",
    "  *Captures work intensity trends*"
   ]
  },
  {
   "cell_type": "code",
   "execution_count": null,
   "id": "4d313324",
   "metadata": {},
   "outputs": [],
   "source": [
    "from scipy.stats import zscore\n",
    "\n",
    "# YoY wage growth\n",
    "Labor_Compensation_Pressure_df['Avg_Weekly_Earning_YoY'] = (\n",
    "    Labor_Compensation_Pressure_df['Avg_Weekly_Earnings'] / Labor_Compensation_Pressure_df['Avg_Weekly_Earnings'].shift(12) - 1\n",
    ")\n",
    "\n",
    "# Real wage growth (wage YoY minus inflation YoY)\n",
    "Labor_Compensation_Pressure_df['RealWageGrowth'] = (\n",
    "    Labor_Compensation_Pressure_df['Avg_Weekly_Earning_YoY'] -\n",
    "    (Labor_Compensation_Pressure_df['CPI'] / Labor_Compensation_Pressure_df['CPI'].shift(12) - 1)\n",
    ")\n",
    "\n",
    "# Trend in Prime LFPR\n",
    "Labor_Compensation_Pressure_df['PrimeLFPR_Trend'] = (\n",
    "    Labor_Compensation_Pressure_df['Prime_LFPR'] - Labor_Compensation_Pressure_df['Prime_LFPR'].shift(12)\n",
    ")\n",
    "\n",
    "# Z-score standardizations\n",
    "Labor_Compensation_Pressure_df['MedianWage3MMA_Z'] = zscore(\n",
    "    Labor_Compensation_Pressure_df['Median_Wage_Growth_3MMA'], nan_policy='omit'\n",
    ")\n",
    "\n",
    "Labor_Compensation_Pressure_df['PrimeEPOP_Z'] = zscore(\n",
    "    Labor_Compensation_Pressure_df['Prime_Employment_to_Population_Ratio'], nan_policy='omit'\n",
    ")"
   ]
  },
  {
   "cell_type": "code",
   "execution_count": 36,
   "id": "d91317ba",
   "metadata": {},
   "outputs": [
    {
     "data": {
      "text/plain": [
       "<Axes: >"
      ]
     },
     "execution_count": 36,
     "metadata": {},
     "output_type": "execute_result"
    },
    {
     "data": {
      "image/png": "[encoded data removed]",
      "text/plain": [
       "<Figure size 640x480 with 1 Axes>"
      ]
     },
     "metadata": {},
     "output_type": "display_data"
    }
   ],
   "source": [
    "from scipy.stats import zscore\n",
    "\n",
    "Labor_Compensation_Pressure_df['AvgWeeklyEarnings_YoY_z'] = zscore(\n",
    "    Labor_Compensation_Pressure_df['Avg_Weekly_Earning_YoY'], nan_policy='omit'\n",
    ")\n",
    "\n",
    "Labor_Compensation_Pressure_df['RealWageGrowth_z'] = zscore(\n",
    "    Labor_Compensation_Pressure_df['RealWageGrowth'], nan_policy='omit'\n",
    ")\n",
    "\n",
    "Labor_Compensation_Pressure_df['PrimeLFPR_Trend_z'] = zscore(\n",
    "    Labor_Compensation_Pressure_df['PrimeLFPR_Trend'], nan_policy='omit'\n",
    ")\n",
    "\n",
    "Labor_Compensation_Pressure_df['Labor_Compensation_Pressure_Index'] = Labor_Compensation_Pressure_df[[\n",
    "    'AvgWeeklyEarnings_YoY_z',\n",
    "    'RealWageGrowth_z',\n",
    "    'MedianWage3MMA_Z',\n",
    "    'PrimeEPOP_Z',\n",
    "    'PrimeLFPR_Trend_z'\n",
    "]].mean(axis=1, skipna=True)\n",
    "\n",
    "Labor_Compensation_Pressure_df['Labor_Compensation_Pressure_Index'].plot()"
   ]
  }
 ],
 "metadata": {
  "kernelspec": {
   "display_name": "Python (learn-env)",
   "language": "python",
   "name": "learn-env"
  },
  "language_info": {
   "codemirror_mode": {
    "name": "ipython",
    "version": 3
   },
   "file_extension": ".py",
   "mimetype": "text/x-python",
   "name": "python",
   "nbconvert_exporter": "python",
   "pygments_lexer": "ipython3",
   "version": "3.8.5"
  }
 },
 "nbformat": 4,
 "nbformat_minor": 5
}
