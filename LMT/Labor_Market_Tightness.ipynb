{
 "cells": [
  {
   "cell_type": "markdown",
   "id": "997dab8d",
   "metadata": {},
   "source": [
    "## 🧲 **Labor Market Tightness**\n",
    "\n",
    "*Measures employer demand and labor force engagement*\n",
    "**Frequency:** Monthly\n",
    "\n",
    "| Indicator                                | Source              |\n",
    "| ---------------------------------------- | ------------------- |\n",
    "| Job Openings Rate                        | (`JTSJOL`)    |\n",
    "| Hires Rate                               | (`JTSHIL`)    |\n",
    "| Prime-Age Labor Force Participation Rate |(`LNS11300060`) |"
   ]
  },
  {
   "cell_type": "code",
   "execution_count": 2,
   "id": "43924dc3",
   "metadata": {},
   "outputs": [
    {
     "data": {
      "application/vnd.microsoft.datawrangler.viewer.v0+json": {
       "columns": [
        {
         "name": "index",
         "rawType": "int64",
         "type": "integer"
        },
        {
         "name": "observation_date",
         "rawType": "object",
         "type": "string"
        },
        {
         "name": "Job_Openings_Rate",
         "rawType": "int64",
         "type": "integer"
        },
        {
         "name": "Hires_Rate",
         "rawType": "int64",
         "type": "integer"
        },
        {
         "name": "Prime_LFPR",
         "rawType": "float64",
         "type": "float"
        },
        {
         "name": "Unemployed",
         "rawType": "int64",
         "type": "integer"
        }
       ],
       "conversionMethod": "pd.DataFrame",
       "ref": "33992e75-3872-4d56-92e3-7276e0b45ce4",
       "rows": [
        [
         "0",
         "2000-12-01",
         "5426",
         "5088",
         "83.9",
         "5634"
        ],
        [
         "1",
         "2001-01-01",
         "5722",
         "5234",
         "84.1",
         "6023"
        ],
        [
         "2",
         "2001-02-01",
         "5303",
         "5097",
         "84.1",
         "6089"
        ],
        [
         "3",
         "2001-03-01",
         "5528",
         "4762",
         "84.1",
         "6141"
        ],
        [
         "4",
         "2001-04-01",
         "5204",
         "4615",
         "83.7",
         "6271"
        ],
        [
         "5",
         "2001-05-01",
         "5410",
         "4425",
         "83.8",
         "6226"
        ],
        [
         "6",
         "2001-06-01",
         "5109",
         "4361",
         "83.6",
         "6484"
        ],
        [
         "7",
         "2001-07-01",
         "5244",
         "4447",
         "83.6",
         "6583"
        ],
        [
         "8",
         "2001-08-01",
         "5223",
         "4024",
         "83.5",
         "7042"
        ],
        [
         "9",
         "2001-09-01",
         "4954",
         "4071",
         "83.5",
         "7142"
        ],
        [
         "10",
         "2001-10-01",
         "5078",
         "3707",
         "83.6",
         "7694"
        ],
        [
         "11",
         "2001-11-01",
         "4914",
         "3775",
         "83.5",
         "8003"
        ],
        [
         "12",
         "2001-12-01",
         "4829",
         "3677",
         "83.7",
         "8258"
        ],
        [
         "13",
         "2002-01-01",
         "4855",
         "3699",
         "83.5",
         "8182"
        ],
        [
         "14",
         "2002-02-01",
         "4801",
         "3436",
         "83.7",
         "8215"
        ],
        [
         "15",
         "2002-03-01",
         "4706",
         "3612",
         "83.5",
         "8304"
        ],
        [
         "16",
         "2002-04-01",
         "4928",
         "3471",
         "83.6",
         "8599"
        ],
        [
         "17",
         "2002-05-01",
         "4857",
         "3457",
         "83.6",
         "8399"
        ],
        [
         "18",
         "2002-06-01",
         "4869",
         "3412",
         "83.2",
         "8393"
        ],
        [
         "19",
         "2002-07-01",
         "4946",
         "3367",
         "83.1",
         "8390"
        ],
        [
         "20",
         "2002-08-01",
         "4871",
         "3517",
         "83.2",
         "8304"
        ],
        [
         "21",
         "2002-09-01",
         "4879",
         "3301",
         "83.3",
         "8251"
        ],
        [
         "22",
         "2002-10-01",
         "4798",
         "3479",
         "83.2",
         "8307"
        ],
        [
         "23",
         "2002-11-01",
         "4792",
         "3514",
         "82.9",
         "8520"
        ],
        [
         "24",
         "2002-12-01",
         "4893",
         "3169",
         "83.1",
         "8640"
        ],
        [
         "25",
         "2003-01-01",
         "5058",
         "3441",
         "82.9",
         "8520"
        ],
        [
         "26",
         "2003-02-01",
         "4714",
         "3229",
         "83.0",
         "8618"
        ],
        [
         "27",
         "2003-03-01",
         "4470",
         "3099",
         "83.1",
         "8588"
        ],
        [
         "28",
         "2003-04-01",
         "4600",
         "3108",
         "83.2",
         "8842"
        ],
        [
         "29",
         "2003-05-01",
         "4678",
         "3289",
         "83.1",
         "8957"
        ],
        [
         "30",
         "2003-06-01",
         "4682",
         "3390",
         "83.3",
         "9266"
        ],
        [
         "31",
         "2003-07-01",
         "4639",
         "2981",
         "83.0",
         "9011"
        ],
        [
         "32",
         "2003-08-01",
         "4666",
         "3190",
         "83.0",
         "8896"
        ],
        [
         "33",
         "2003-09-01",
         "4799",
         "3091",
         "82.8",
         "8921"
        ],
        [
         "34",
         "2003-10-01",
         "4902",
         "3305",
         "82.9",
         "8732"
        ],
        [
         "35",
         "2003-11-01",
         "4767",
         "3324",
         "82.8",
         "8576"
        ],
        [
         "36",
         "2003-12-01",
         "4984",
         "3414",
         "82.8",
         "8317"
        ],
        [
         "37",
         "2004-01-01",
         "4900",
         "3424",
         "82.8",
         "8370"
        ],
        [
         "38",
         "2004-02-01",
         "4788",
         "3532",
         "82.7",
         "8167"
        ],
        [
         "39",
         "2004-03-01",
         "5227",
         "3525",
         "82.8",
         "8491"
        ],
        [
         "40",
         "2004-04-01",
         "5152",
         "3511",
         "82.7",
         "8170"
        ],
        [
         "41",
         "2004-05-01",
         "4976",
         "3710",
         "82.8",
         "8212"
        ],
        [
         "42",
         "2004-06-01",
         "5009",
         "3337",
         "82.9",
         "8286"
        ],
        [
         "43",
         "2004-07-01",
         "4891",
         "3814",
         "83.0",
         "8136"
        ],
        [
         "44",
         "2004-08-01",
         "5013",
         "3541",
         "82.7",
         "7990"
        ],
        [
         "45",
         "2004-09-01",
         "5062",
         "3821",
         "82.7",
         "7927"
        ],
        [
         "46",
         "2004-10-01",
         "5149",
         "3943",
         "82.6",
         "8061"
        ],
        [
         "47",
         "2004-11-01",
         "5181",
         "3472",
         "82.7",
         "7932"
        ],
        [
         "48",
         "2004-12-01",
         "5153",
         "4074",
         "82.6",
         "7934"
        ],
        [
         "49",
         "2005-01-01",
         "5201",
         "3804",
         "82.7",
         "7784"
        ]
       ],
       "shape": {
        "columns": 5,
        "rows": 292
       }
      },
      "text/html": [
       "<div>\n",
       "<style scoped>\n",
       "    .dataframe tbody tr th:only-of-type {\n",
       "        vertical-align: middle;\n",
       "    }\n",
       "\n",
       "    .dataframe tbody tr th {\n",
       "        vertical-align: top;\n",
       "    }\n",
       "\n",
       "    .dataframe thead th {\n",
       "        text-align: right;\n",
       "    }\n",
       "</style>\n",
       "<table border=\"1\" class=\"dataframe\">\n",
       "  <thead>\n",
       "    <tr style=\"text-align: right;\">\n",
       "      <th></th>\n",
       "      <th>observation_date</th>\n",
       "      <th>Job_Openings_Rate</th>\n",
       "      <th>Hires_Rate</th>\n",
       "      <th>Prime_LFPR</th>\n",
       "      <th>Unemployed</th>\n",
       "    </tr>\n",
       "  </thead>\n",
       "  <tbody>\n",
       "    <tr>\n",
       "      <th>0</th>\n",
       "      <td>2000-12-01</td>\n",
       "      <td>5426</td>\n",
       "      <td>5088</td>\n",
       "      <td>83.9</td>\n",
       "      <td>5634</td>\n",
       "    </tr>\n",
       "    <tr>\n",
       "      <th>1</th>\n",
       "      <td>2001-01-01</td>\n",
       "      <td>5722</td>\n",
       "      <td>5234</td>\n",
       "      <td>84.1</td>\n",
       "      <td>6023</td>\n",
       "    </tr>\n",
       "    <tr>\n",
       "      <th>2</th>\n",
       "      <td>2001-02-01</td>\n",
       "      <td>5303</td>\n",
       "      <td>5097</td>\n",
       "      <td>84.1</td>\n",
       "      <td>6089</td>\n",
       "    </tr>\n",
       "    <tr>\n",
       "      <th>3</th>\n",
       "      <td>2001-03-01</td>\n",
       "      <td>5528</td>\n",
       "      <td>4762</td>\n",
       "      <td>84.1</td>\n",
       "      <td>6141</td>\n",
       "    </tr>\n",
       "    <tr>\n",
       "      <th>4</th>\n",
       "      <td>2001-04-01</td>\n",
       "      <td>5204</td>\n",
       "      <td>4615</td>\n",
       "      <td>83.7</td>\n",
       "      <td>6271</td>\n",
       "    </tr>\n",
       "    <tr>\n",
       "      <th>...</th>\n",
       "      <td>...</td>\n",
       "      <td>...</td>\n",
       "      <td>...</td>\n",
       "      <td>...</td>\n",
       "      <td>...</td>\n",
       "    </tr>\n",
       "    <tr>\n",
       "      <th>287</th>\n",
       "      <td>2024-11-01</td>\n",
       "      <td>5307</td>\n",
       "      <td>8031</td>\n",
       "      <td>83.5</td>\n",
       "      <td>7121</td>\n",
       "    </tr>\n",
       "    <tr>\n",
       "      <th>288</th>\n",
       "      <td>2024-12-01</td>\n",
       "      <td>5374</td>\n",
       "      <td>7508</td>\n",
       "      <td>83.4</td>\n",
       "      <td>6886</td>\n",
       "    </tr>\n",
       "    <tr>\n",
       "      <th>289</th>\n",
       "      <td>2025-01-01</td>\n",
       "      <td>5371</td>\n",
       "      <td>7762</td>\n",
       "      <td>83.5</td>\n",
       "      <td>6849</td>\n",
       "    </tr>\n",
       "    <tr>\n",
       "      <th>290</th>\n",
       "      <td>2025-02-01</td>\n",
       "      <td>5370</td>\n",
       "      <td>7480</td>\n",
       "      <td>83.5</td>\n",
       "      <td>7052</td>\n",
       "    </tr>\n",
       "    <tr>\n",
       "      <th>291</th>\n",
       "      <td>2025-03-01</td>\n",
       "      <td>5411</td>\n",
       "      <td>7192</td>\n",
       "      <td>83.3</td>\n",
       "      <td>7083</td>\n",
       "    </tr>\n",
       "  </tbody>\n",
       "</table>\n",
       "<p>292 rows × 5 columns</p>\n",
       "</div>"
      ],
      "text/plain": [
       "    observation_date  Job_Openings_Rate  Hires_Rate  Prime_LFPR  Unemployed\n",
       "0         2000-12-01               5426        5088        83.9        5634\n",
       "1         2001-01-01               5722        5234        84.1        6023\n",
       "2         2001-02-01               5303        5097        84.1        6089\n",
       "3         2001-03-01               5528        4762        84.1        6141\n",
       "4         2001-04-01               5204        4615        83.7        6271\n",
       "..               ...                ...         ...         ...         ...\n",
       "287       2024-11-01               5307        8031        83.5        7121\n",
       "288       2024-12-01               5374        7508        83.4        6886\n",
       "289       2025-01-01               5371        7762        83.5        6849\n",
       "290       2025-02-01               5370        7480        83.5        7052\n",
       "291       2025-03-01               5411        7192        83.3        7083\n",
       "\n",
       "[292 rows x 5 columns]"
      ]
     },
     "execution_count": 2,
     "metadata": {},
     "output_type": "execute_result"
    }
   ],
   "source": [
    "import pandas as pd\n",
    "import sqlite3\n",
    "\n",
    "# Load CSV files into DataFrames\n",
    "Job_Openings_Rate_df = pd.read_csv('Job_Openings_Rate.csv')\n",
    "Hires_Rate_df = pd.read_csv('Hires_Rate.csv')\n",
    "Prime_Labor_Force_Participation_Rate_df = pd.read_csv('Prime_Labor_Force_Participation_Rate.csv')\n",
    "Unemployment_Level_df = pd.read_csv('Unemployment_Level.csv')\n",
    "\n",
    "\n",
    "\n",
    "# Create an SQLite in-memory database\n",
    "conn = sqlite3.connect(':memory:')\n",
    "\n",
    "# Load DataFrames into the database as tables\n",
    "Job_Openings_Rate_df.to_sql('Openings', conn, index=False, if_exists='replace')\n",
    "Hires_Rate_df.to_sql('Hires', conn, index=False, if_exists='replace')\n",
    "Prime_Labor_Force_Participation_Rate_df.to_sql('Prime_LFPR', conn, index=False, if_exists='replace')\n",
    "Unemployment_Level_df.to_sql('Unemployed', conn, index=False, if_exists='replace')\n",
    "\n",
    "\n",
    "\n",
    "# SQL query to merge all tables on 'Player'\n",
    "sql_query = \"\"\"\n",
    "SELECT \n",
    "    Openings.observation_date, \n",
    "    JTSHIL AS \"Job_Openings_Rate\", \n",
    "    JTSJOL AS \"Hires_Rate\", \n",
    "    LNS11300060 AS \"Prime_LFPR\",\n",
    "    Unemployed.UNEMPLOY AS \"Unemployed\"\n",
    "FROM Openings\n",
    "INNER JOIN Hires ON Openings.observation_date = Hires.observation_date\n",
    "INNER JOIN Prime_LFPR ON Openings.observation_date = Prime_LFPR.observation_date\n",
    "INNER JOIN Unemployed ON Openings.observation_date = Unemployed.observation_date\n",
    "\"\"\"\n",
    "\n",
    "\n",
    "# Execute the query and load results into a DataFrame\n",
    "Labor_Market_Tightness_df = pd.read_sql_query(sql_query, conn)\n",
    "\n",
    "# Save the merged DataFrame to a new CSV file\n",
    "# csv_filename = \"Stats/All_Player_Numbers.csv\"\n",
    "# Player_Numbers_df.to_csv(csv_filename, index=False)\n",
    "\n",
    "# Close the connection\n",
    "conn.close()\n",
    "\n",
    "# Provide the file to the user\n",
    "\n",
    "\n",
    "Labor_Market_Tightness_df"
   ]
  },
  {
   "cell_type": "markdown",
   "id": "b1f5305e",
   "metadata": {},
   "source": [
    "**Feature Engineering:**\n",
    "\n",
    "* `OpeningsPerUnemployed = Job Openings / Unemployed`\n",
    "* `OpeningsPerHire = Job Openings / Hires`\n",
    "* `PrimeLFPR_Z = z-score(Prime-Age LFPR)`"
   ]
  },
  {
   "cell_type": "code",
   "execution_count": 3,
   "id": "d14b9a92",
   "metadata": {},
   "outputs": [
    {
     "data": {
      "text/plain": [
       "Index(['observation_date', 'Job_Openings_Rate', 'Hires_Rate', 'Prime_LFPR',\n",
       "       'Openings_Per_Unemployed', 'Openings_Per_Hire', 'Prime_LFPR_ZScore'],\n",
       "      dtype='object')"
      ]
     },
     "execution_count": 3,
     "metadata": {},
     "output_type": "execute_result"
    }
   ],
   "source": [
    "from scipy.stats import zscore\n",
    "\n",
    "Labor_Market_Tightness_df['Openings_Per_Unemployed'] = Labor_Market_Tightness_df['Job_Openings_Rate']/Labor_Market_Tightness_df['Unemployed']\n",
    "Labor_Market_Tightness_df['Openings_Per_Hire'] = Labor_Market_Tightness_df['Job_Openings_Rate']/Labor_Market_Tightness_df['Hires_Rate']\n",
    "Labor_Market_Tightness_df['Prime_LFPR_ZScore'] = zscore(Labor_Market_Tightness_df['Job_Openings_Rate'])\n",
    "Labor_Market_Tightness_df = Labor_Market_Tightness_df.drop('Unemployed', axis=1)\n",
    "Labor_Market_Tightness_df.columns"
   ]
  },
  {
   "cell_type": "markdown",
   "id": "68406d14",
   "metadata": {},
   "source": [
    "**Market Tightness Index (MTI)**"
   ]
  },
  {
   "cell_type": "code",
   "execution_count": 10,
   "id": "f4ad9fc0",
   "metadata": {},
   "outputs": [
    {
     "data": {
      "image/png": "[encoded data removed]",
      "text/plain": [
       "<Figure size 640x480 with 1 Axes>"
      ]
     },
     "metadata": {},
     "output_type": "display_data"
    }
   ],
   "source": [
    "from scipy.stats import zscore\n",
    "\n",
    "# Standardize manually if not already z-scored\n",
    "Labor_Market_Tightness_df['OpeningsPerUnemployed_z'] = zscore(Labor_Market_Tightness_df['Openings_Per_Unemployed'], nan_policy='omit')\n",
    "Labor_Market_Tightness_df['OpeningsPerHire_z'] = zscore(Labor_Market_Tightness_df['Openings_Per_Hire'], nan_policy='omit')\n",
    "Labor_Market_Tightness_df['PrimeLFPR_z'] = Labor_Market_Tightness_df['Prime_LFPR_ZScore']  # Already z-scored\n",
    "\n",
    "# Combine into index\n",
    "Labor_Market_Tightness_df['Labor_Market_Tightness_Index'] = Labor_Market_Tightness_df[[\n",
    "    'OpeningsPerUnemployed_z',\n",
    "    'OpeningsPerHire_z',\n",
    "    'PrimeLFPR_z'\n",
    "]].mean(axis=1, skipna=True)\n",
    "\n",
    "\n",
    "Labor_Market_Tightness_df['Labor_Market_Tightness_Index'].plot()\n",
    "\n",
    "\n",
    "import os\n",
    "\n",
    "os.makedirs('LMT', exist_ok=True)\n",
    "\n",
    "Labor_Market_Tightness_df[['observation_date', 'Labor_Market_Tightness_Index']].to_csv(\n",
    "    'Labor_Market_Tightness_Index.csv', index=False\n",
    ")\n",
    "\n",
    "import pandas as pd\n",
    "\n",
    "# Load the original data\n",
    "tight_df = pd.read_csv('Labor_Market_Tightness_Index.csv')\n",
    "tight_df['observation_date'] = pd.to_datetime(tight_df['observation_date'])\n",
    "\n",
    "# Automatically assign tightness labels using quantiles\n",
    "tight_df['Tightness_Label'] = pd.qcut(\n",
    "    tight_df['Labor_Market_Tightness_Index'],\n",
    "    q=4,\n",
    "    labels=['Strong_Supply', 'Balanced_Market', 'Strong_Demand', 'Overheated_Demand']\n",
    ")\n",
    "\n",
    "# ✅ Overwrite the original file with labels added\n",
    "tight_df.to_csv('Labor_Market_Tightness_Index.csv', index=False)\n"
   ]
  }
 ],
 "metadata": {
  "kernelspec": {
   "display_name": "Python (learn-env)",
   "language": "python",
   "name": "learn-env"
  },
  "language_info": {
   "codemirror_mode": {
    "name": "ipython",
    "version": 3
   },
   "file_extension": ".py",
   "mimetype": "text/x-python",
   "name": "python",
   "nbconvert_exporter": "python",
   "pygments_lexer": "ipython3",
   "version": "3.8.5"
  }
 },
 "nbformat": 4,
 "nbformat_minor": 5
}
