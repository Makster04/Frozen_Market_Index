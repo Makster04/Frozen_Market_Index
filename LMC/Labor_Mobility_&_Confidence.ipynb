{
 "cells": [
  {
   "cell_type": "markdown",
   "id": "85c29877",
   "metadata": {},
   "source": [
    "## 🔁 **Labor Mobility & Confidence**\n",
    "\n",
    "*Tracks voluntary movement, layoffs, and temp labor demand*\n",
    "**Frequency:** Monthly\n",
    "\n",
    "| Indicator                                      | Source                |\n",
    "| ---------------------------------------------- | --------------------- |\n",
    "| Quit Rate                                      | JOLTS (`JTSQUR`)      |\n",
    "| Layoffs and Discharges                         | JOLTS (`JTSLDL`)      |\n",
    "| Total Separations                              | JOLTS (`JTSTSL`)      |\n",
    "| Temporary Help Services Employment             | CES (`CES6054880001`) |\n",
    "\n",
    "**Feature Engineering:**\n",
    "\n",
    "* `QuitsToLayoffs = Quits / Layoffs`\n",
    "* `VoluntaryExitRatio = Quits / Separations`\n",
    "* `LayoffShock = % MoM change in Layoffs`\n",
    "* `TempHelpMoM = % change in TEMPHELPS`\n",
    "* `SeparationFlow_Z = z-score(Total Separations)`\n",
    "\n",
    "---"
   ]
  },
  {
   "cell_type": "code",
   "execution_count": 16,
   "id": "78e1098e",
   "metadata": {},
   "outputs": [
    {
     "data": {
      "application/vnd.microsoft.datawrangler.viewer.v0+json": {
       "columns": [
        {
         "name": "index",
         "rawType": "int64",
         "type": "integer"
        },
        {
         "name": "observation_date",
         "rawType": "object",
         "type": "string"
        },
        {
         "name": "Quits",
         "rawType": "int64",
         "type": "integer"
        },
        {
         "name": "Layoffs",
         "rawType": "int64",
         "type": "integer"
        },
        {
         "name": "Seperations",
         "rawType": "int64",
         "type": "integer"
        },
        {
         "name": "Temp_Help_Services_Employed",
         "rawType": "float64",
         "type": "float"
        }
       ],
       "conversionMethod": "pd.DataFrame",
       "ref": "bbe6076a-be06-4d65-a864-e018d2a0e34c",
       "rows": [
        [
         "0",
         "2000-12-01",
         "2882",
         "2018",
         "5240",
         "2587.2"
        ],
        [
         "1",
         "2001-01-01",
         "3245",
         "2220",
         "5842",
         "2566.4"
        ],
        [
         "2",
         "2001-02-01",
         "3053",
         "1855",
         "5231",
         "2533.7"
        ],
        [
         "3",
         "2001-03-01",
         "3054",
         "2133",
         "5566",
         "2485.3"
        ],
        [
         "4",
         "2001-04-01",
         "3163",
         "1883",
         "5414",
         "2402.1"
        ],
        [
         "5",
         "2001-05-01",
         "2993",
         "2029",
         "5390",
         "2380.5"
        ],
        [
         "6",
         "2001-06-01",
         "2878",
         "2015",
         "5249",
         "2342.9"
        ],
        [
         "7",
         "2001-07-01",
         "2947",
         "2038",
         "5380",
         "2314.2"
        ],
        [
         "8",
         "2001-08-01",
         "2928",
         "2011",
         "5355",
         "2295.1"
        ],
        [
         "9",
         "2001-09-01",
         "2703",
         "2107",
         "5184",
         "2259.0"
        ],
        [
         "10",
         "2001-10-01",
         "2795",
         "2319",
         "5464",
         "2218.6"
        ],
        [
         "11",
         "2001-11-01",
         "2560",
         "2255",
         "5150",
         "2158.0"
        ],
        [
         "12",
         "2001-12-01",
         "2559",
         "1922",
         "4848",
         "2138.2"
        ],
        [
         "13",
         "2002-01-01",
         "2845",
         "1907",
         "5117",
         "2147.3"
        ],
        [
         "14",
         "2002-02-01",
         "2572",
         "1978",
         "4929",
         "2156.6"
        ],
        [
         "15",
         "2002-03-01",
         "2493",
         "1883",
         "4756",
         "2190.5"
        ],
        [
         "16",
         "2002-04-01",
         "2624",
         "1956",
         "4979",
         "2216.8"
        ],
        [
         "17",
         "2002-05-01",
         "2537",
         "1967",
         "4834",
         "2226.1"
        ],
        [
         "18",
         "2002-06-01",
         "2522",
         "2015",
         "4887",
         "2230.1"
        ],
        [
         "19",
         "2002-07-01",
         "2561",
         "2102",
         "5054",
         "2188.5"
        ],
        [
         "20",
         "2002-08-01",
         "2561",
         "1923",
         "4846",
         "2231.2"
        ],
        [
         "21",
         "2002-09-01",
         "2521",
         "2022",
         "4919",
         "2207.6"
        ],
        [
         "22",
         "2002-10-01",
         "2423",
         "1935",
         "4733",
         "2202.6"
        ],
        [
         "23",
         "2002-11-01",
         "2403",
         "1944",
         "4750",
         "2176.3"
        ],
        [
         "24",
         "2002-12-01",
         "2501",
         "2007",
         "4928",
         "2159.3"
        ],
        [
         "25",
         "2003-01-01",
         "2429",
         "2109",
         "4953",
         "2196.8"
        ],
        [
         "26",
         "2003-02-01",
         "2490",
         "2015",
         "4871",
         "2180.9"
        ],
        [
         "27",
         "2003-03-01",
         "2394",
         "1949",
         "4749",
         "2166.6"
        ],
        [
         "28",
         "2003-04-01",
         "2279",
         "1998",
         "4653",
         "2143.0"
        ],
        [
         "29",
         "2003-05-01",
         "2291",
         "2072",
         "4716",
         "2190.0"
        ],
        [
         "30",
         "2003-06-01",
         "2315",
         "2076",
         "4718",
         "2221.9"
        ],
        [
         "31",
         "2003-07-01",
         "2271",
         "2062",
         "4661",
         "2247.3"
        ],
        [
         "32",
         "2003-08-01",
         "2195",
         "2162",
         "4679",
         "2246.5"
        ],
        [
         "33",
         "2003-09-01",
         "2354",
         "1932",
         "4645",
         "2260.9"
        ],
        [
         "34",
         "2003-10-01",
         "2415",
         "1969",
         "4749",
         "2261.5"
        ],
        [
         "35",
         "2003-11-01",
         "2411",
         "1951",
         "4700",
         "2275.8"
        ],
        [
         "36",
         "2003-12-01",
         "2444",
         "2007",
         "4785",
         "2294.7"
        ],
        [
         "37",
         "2004-01-01",
         "2354",
         "2037",
         "4722",
         "2298.0"
        ],
        [
         "38",
         "2004-02-01",
         "2448",
         "1985",
         "4754",
         "2310.2"
        ],
        [
         "39",
         "2004-03-01",
         "2582",
         "2065",
         "4996",
         "2313.7"
        ],
        [
         "40",
         "2004-04-01",
         "2534",
         "2010",
         "4854",
         "2352.7"
        ],
        [
         "41",
         "2004-05-01",
         "2428",
         "1914",
         "4688",
         "2381.3"
        ],
        [
         "42",
         "2004-06-01",
         "2659",
         "1887",
         "4896",
         "2383.6"
        ],
        [
         "43",
         "2004-07-01",
         "2609",
         "1885",
         "4828",
         "2396.8"
        ],
        [
         "44",
         "2004-08-01",
         "2586",
         "1974",
         "4904",
         "2403.3"
        ],
        [
         "45",
         "2004-09-01",
         "2531",
         "2027",
         "4886",
         "2419.3"
        ],
        [
         "46",
         "2004-10-01",
         "2550",
         "1903",
         "4786",
         "2477.1"
        ],
        [
         "47",
         "2004-11-01",
         "2789",
         "2037",
         "5134",
         "2459.4"
        ],
        [
         "48",
         "2004-12-01",
         "2695",
         "1951",
         "4964",
         "2430.2"
        ],
        [
         "49",
         "2005-01-01",
         "2732",
         "2008",
         "5045",
         "2459.4"
        ]
       ],
       "shape": {
        "columns": 5,
        "rows": 292
       }
      },
      "text/html": [
       "<div>\n",
       "<style scoped>\n",
       "    .dataframe tbody tr th:only-of-type {\n",
       "        vertical-align: middle;\n",
       "    }\n",
       "\n",
       "    .dataframe tbody tr th {\n",
       "        vertical-align: top;\n",
       "    }\n",
       "\n",
       "    .dataframe thead th {\n",
       "        text-align: right;\n",
       "    }\n",
       "</style>\n",
       "<table border=\"1\" class=\"dataframe\">\n",
       "  <thead>\n",
       "    <tr style=\"text-align: right;\">\n",
       "      <th></th>\n",
       "      <th>observation_date</th>\n",
       "      <th>Quits</th>\n",
       "      <th>Layoffs</th>\n",
       "      <th>Seperations</th>\n",
       "      <th>Temp_Help_Services_Employed</th>\n",
       "    </tr>\n",
       "  </thead>\n",
       "  <tbody>\n",
       "    <tr>\n",
       "      <th>0</th>\n",
       "      <td>2000-12-01</td>\n",
       "      <td>2882</td>\n",
       "      <td>2018</td>\n",
       "      <td>5240</td>\n",
       "      <td>2587.2</td>\n",
       "    </tr>\n",
       "    <tr>\n",
       "      <th>1</th>\n",
       "      <td>2001-01-01</td>\n",
       "      <td>3245</td>\n",
       "      <td>2220</td>\n",
       "      <td>5842</td>\n",
       "      <td>2566.4</td>\n",
       "    </tr>\n",
       "    <tr>\n",
       "      <th>2</th>\n",
       "      <td>2001-02-01</td>\n",
       "      <td>3053</td>\n",
       "      <td>1855</td>\n",
       "      <td>5231</td>\n",
       "      <td>2533.7</td>\n",
       "    </tr>\n",
       "    <tr>\n",
       "      <th>3</th>\n",
       "      <td>2001-03-01</td>\n",
       "      <td>3054</td>\n",
       "      <td>2133</td>\n",
       "      <td>5566</td>\n",
       "      <td>2485.3</td>\n",
       "    </tr>\n",
       "    <tr>\n",
       "      <th>4</th>\n",
       "      <td>2001-04-01</td>\n",
       "      <td>3163</td>\n",
       "      <td>1883</td>\n",
       "      <td>5414</td>\n",
       "      <td>2402.1</td>\n",
       "    </tr>\n",
       "    <tr>\n",
       "      <th>...</th>\n",
       "      <td>...</td>\n",
       "      <td>...</td>\n",
       "      <td>...</td>\n",
       "      <td>...</td>\n",
       "      <td>...</td>\n",
       "    </tr>\n",
       "    <tr>\n",
       "      <th>287</th>\n",
       "      <td>2024-11-01</td>\n",
       "      <td>3032</td>\n",
       "      <td>1739</td>\n",
       "      <td>5087</td>\n",
       "      <td>2550.1</td>\n",
       "    </tr>\n",
       "    <tr>\n",
       "      <th>288</th>\n",
       "      <td>2024-12-01</td>\n",
       "      <td>3095</td>\n",
       "      <td>1669</td>\n",
       "      <td>5082</td>\n",
       "      <td>2551.8</td>\n",
       "    </tr>\n",
       "    <tr>\n",
       "      <th>289</th>\n",
       "      <td>2025-01-01</td>\n",
       "      <td>3256</td>\n",
       "      <td>1674</td>\n",
       "      <td>5272</td>\n",
       "      <td>2543.8</td>\n",
       "    </tr>\n",
       "    <tr>\n",
       "      <th>290</th>\n",
       "      <td>2025-02-01</td>\n",
       "      <td>3250</td>\n",
       "      <td>1780</td>\n",
       "      <td>5316</td>\n",
       "      <td>2541.6</td>\n",
       "    </tr>\n",
       "    <tr>\n",
       "      <th>291</th>\n",
       "      <td>2025-03-01</td>\n",
       "      <td>3332</td>\n",
       "      <td>1558</td>\n",
       "      <td>5137</td>\n",
       "      <td>2538.9</td>\n",
       "    </tr>\n",
       "  </tbody>\n",
       "</table>\n",
       "<p>292 rows × 5 columns</p>\n",
       "</div>"
      ],
      "text/plain": [
       "    observation_date  Quits  Layoffs  Seperations  Temp_Help_Services_Employed\n",
       "0         2000-12-01   2882     2018         5240                       2587.2\n",
       "1         2001-01-01   3245     2220         5842                       2566.4\n",
       "2         2001-02-01   3053     1855         5231                       2533.7\n",
       "3         2001-03-01   3054     2133         5566                       2485.3\n",
       "4         2001-04-01   3163     1883         5414                       2402.1\n",
       "..               ...    ...      ...          ...                          ...\n",
       "287       2024-11-01   3032     1739         5087                       2550.1\n",
       "288       2024-12-01   3095     1669         5082                       2551.8\n",
       "289       2025-01-01   3256     1674         5272                       2543.8\n",
       "290       2025-02-01   3250     1780         5316                       2541.6\n",
       "291       2025-03-01   3332     1558         5137                       2538.9\n",
       "\n",
       "[292 rows x 5 columns]"
      ]
     },
     "execution_count": 16,
     "metadata": {},
     "output_type": "execute_result"
    }
   ],
   "source": [
    "import pandas as pd\n",
    "import sqlite3\n",
    "\n",
    "# Load CSV files into DataFrames\n",
    "Quits_Rate_df = pd.read_csv('Quits_Rate.csv')\n",
    "Layoffs_and_Discharges_df = pd.read_csv('Layoffs_and_Discharges.csv')\n",
    "Total_Seperations_df = pd.read_csv('Total_Seperations.csv')\n",
    "Temporary_Help_Services_Employment_df = pd.read_csv('Temporary_Help_Services_Employment.csv')\n",
    "\n",
    "\n",
    "\n",
    "\n",
    "# Create an SQLite in-memory database\n",
    "conn = sqlite3.connect(':memory:')\n",
    "\n",
    "# Load DataFrames into the database as tables\n",
    "Quits_Rate_df.to_sql('Quits', conn, index=False, if_exists='replace')\n",
    "Layoffs_and_Discharges_df.to_sql('Layoffs', conn, index=False, if_exists='replace')\n",
    "Total_Seperations_df.to_sql('Seperations', conn, index=False, if_exists='replace')\n",
    "Temporary_Help_Services_Employment_df.to_sql('Temp_Help_Services_Employed', conn, index=False, if_exists='replace')\n",
    "\n",
    "\n",
    "\n",
    "# SQL query to merge all tables on 'Player'\n",
    "sql_query = \"\"\"\n",
    "SELECT \n",
    "    Quits.observation_date, \n",
    "    JTSQUL as \"Quits\",\n",
    "    JTSLDL as \"Layoffs\",\n",
    "    JTSTSL as \"Seperations\",\n",
    "    TEMPHELPS as \"Temp_Help_Services_Employed\"\n",
    "FROM Quits\n",
    "INNER JOIN Layoffs ON Quits.observation_date = Layoffs.observation_date\n",
    "INNER JOIN Seperations ON Quits.observation_date = Seperations.observation_date\n",
    "INNER JOIN Temp_Help_Services_Employed ON Quits.observation_date = Temp_Help_Services_Employed.observation_date\n",
    "\n",
    "\"\"\"\n",
    "\n",
    "\n",
    "# Execute the query and load results into a DataFrame\n",
    "Labor_Mobility_Confidence_df = pd.read_sql_query(sql_query, conn)\n",
    "\n",
    "# Save the merged DataFrame to a new CSV file\n",
    "# csv_filename = \"Stats/All_Player_Numbers.csv\"\n",
    "# Player_Numbers_df.to_csv(csv_filename, index=False)\n",
    "\n",
    "# Close the connection\n",
    "conn.close()\n",
    "\n",
    "# Provide the file to the user\n",
    "\n",
    "\n",
    "Labor_Mobility_Confidence_df"
   ]
  },
  {
   "cell_type": "markdown",
   "id": "0b3f65ee",
   "metadata": {},
   "source": [
    "**Feature Engineering:**\n",
    "\n",
    "* `QuitsToLayoffs = Quits / Layoffs`\n",
    "* `VoluntaryExitRatio = Quits / Separations`\n",
    "* `LayoffShock = % MoM change in Layoffs`\n",
    "* `TempHelpMoM = % change in TEMPHELPS`\n",
    "* `SeparationFlow_Z = z-score(Total Separations)`\n"
   ]
  },
  {
   "cell_type": "code",
   "execution_count": 18,
   "id": "c0cc064c",
   "metadata": {},
   "outputs": [
    {
     "data": {
      "text/plain": [
       "Index(['observation_date', 'Quits', 'Layoffs', 'Seperations',\n",
       "       'Temp_Help_Services_Employed', 'Quits_to_Layoffs_Ratio', 'Layoff_Shock',\n",
       "       'Temp_Help_Pct_change', 'Seperation_Flow_ZScore'],\n",
       "      dtype='object')"
      ]
     },
     "execution_count": 18,
     "metadata": {},
     "output_type": "execute_result"
    }
   ],
   "source": [
    "from scipy.stats import zscore\n",
    "\n",
    "from scipy.stats import zscore\n",
    "\n",
    "# True confidence ratio\n",
    "Labor_Mobility_Confidence_df['Quits_to_Layoffs_Ratio'] = (\n",
    "    Labor_Mobility_Confidence_df['Quits'] / Labor_Mobility_Confidence_df['Layoffs']\n",
    ")\n",
    "\n",
    "# Layoff shock signal\n",
    "Labor_Mobility_Confidence_df['Layoff_Shock'] = (\n",
    "    Labor_Mobility_Confidence_df['Layoffs'].pct_change() * 100\n",
    ")\n",
    "\n",
    "# Temporary help signal\n",
    "Labor_Mobility_Confidence_df['Temp_Help_Pct_change'] = (\n",
    "    Labor_Mobility_Confidence_df['Temp_Help_Services_Employed'].pct_change() * 100\n",
    ")\n",
    "\n",
    "# Standardized total separation flow\n",
    "Labor_Mobility_Confidence_df['Seperation_Flow_ZScore'] = zscore(\n",
    "    Labor_Mobility_Confidence_df['Seperations'], nan_policy='omit'\n",
    ")\n",
    "Labor_Mobility_Confidence_df.columns"
   ]
  },
  {
   "cell_type": "code",
   "execution_count": 21,
   "id": "5f8a2171",
   "metadata": {},
   "outputs": [
    {
     "data": {
      "text/plain": [
       "<Axes: >"
      ]
     },
     "execution_count": 21,
     "metadata": {},
     "output_type": "execute_result"
    },
    {
     "data": {
      "image/png": "[encoded data removed]",
      "text/plain": [
       "<Figure size 640x480 with 1 Axes>"
      ]
     },
     "metadata": {},
     "output_type": "display_data"
    }
   ],
   "source": [
    "from scipy.stats import zscore\n",
    "import matplotlib.pyplot as plt\n",
    "import os\n",
    "\n",
    "# Z-score normalization for final features\n",
    "Labor_Mobility_Confidence_df['QuitsToLayoffs_z'] = zscore(\n",
    "    Labor_Mobility_Confidence_df['Quits_to_Layoffs_Ratio'], nan_policy='omit'\n",
    ")\n",
    "\n",
    "Labor_Mobility_Confidence_df['LayoffShock_z'] = zscore(\n",
    "    Labor_Mobility_Confidence_df['Layoff_Shock'], nan_policy='omit'\n",
    ")\n",
    "\n",
    "Labor_Mobility_Confidence_df['TempHelpMoM_z'] = zscore(\n",
    "    Labor_Mobility_Confidence_df['Temp_Help_Pct_change'], nan_policy='omit'\n",
    ")\n",
    "\n",
    "# Seperation flow already standardized as a z-score\n",
    "Labor_Mobility_Confidence_df['SeparationFlow_Z'] = Labor_Mobility_Confidence_df['Seperation_Flow_ZScore']\n",
    "\n",
    "\n",
    "Labor_Mobility_Confidence_df['Labor_Mobility_Confidence_Index'] = Labor_Mobility_Confidence_df[[\n",
    "    'QuitsToLayoffs_z',\n",
    "    'LayoffShock_z',\n",
    "    'TempHelpMoM_z',\n",
    "    'SeparationFlow_Z'\n",
    "]].mean(axis=1, skipna=True)\n",
    "\n",
    "\n",
    "Labor_Mobility_Confidence_df['Labor_Mobility_Confidence_Index'].plot()\n"
   ]
  }
 ],
 "metadata": {
  "kernelspec": {
   "display_name": "Python (learn-env)",
   "language": "python",
   "name": "learn-env"
  },
  "language_info": {
   "codemirror_mode": {
    "name": "ipython",
    "version": 3
   },
   "file_extension": ".py",
   "mimetype": "text/x-python",
   "name": "python",
   "nbconvert_exporter": "python",
   "pygments_lexer": "ipython3",
   "version": "3.8.5"
  }
 },
 "nbformat": 4,
 "nbformat_minor": 5
}
